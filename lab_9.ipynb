{
  "nbformat": 4,
  "nbformat_minor": 0,
  "metadata": {
    "colab": {
      "name": "lab-9",
      "provenance": [],
      "collapsed_sections": [],
      "authorship_tag": "ABX9TyODakq7rbSO0yngLK5oO8uC",
      "include_colab_link": true
    },
    "kernelspec": {
      "name": "python3",
      "display_name": "Python 3"
    },
    "language_info": {
      "name": "python"
    }
  },
  "cells": [
    {
      "cell_type": "markdown",
      "metadata": {
        "id": "view-in-github",
        "colab_type": "text"
      },
      "source": [
        "<a href=\"https://colab.research.google.com/github/Shivani-saran/BLOCK-CHAIN-FOR-BUSSINESS/blob/main/lab_9.ipynb\" target=\"_parent\"><img src=\"https://colab.research.google.com/assets/colab-badge.svg\" alt=\"Open In Colab\"/></a>"
      ]
    },
    {
      "cell_type": "code",
      "execution_count": null,
      "metadata": {
        "id": "kZDc6lrV5n7t"
      },
      "outputs": [],
      "source": [
        "import os\n"
      ]
    },
    {
      "cell_type": "code",
      "source": [
        "os.mkdir(\"blockchain\")"
      ],
      "metadata": {
        "id": "kTXATfF_7xcn"
      },
      "execution_count": null,
      "outputs": []
    },
    {
      "cell_type": "code",
      "source": [
        "save_path = '/content/blockchain'\n",
        "file_name = \"file1\"\n",
        "BfB = os.path.join(save_path,file_name)\n",
        "file1 = open(BfB, \"w\")\n",
        "file1.write(\"Blockchain for business lab 8\")\n",
        "file1.close()"
      ],
      "metadata": {
        "id": "zoe8Riex9rb-"
      },
      "execution_count": null,
      "outputs": []
    },
    {
      "cell_type": "code",
      "source": [
        "save_path = '/content/blockchain'\n",
        "file_name = \"file2\"\n",
        "BfB = os.path.join(save_path,file_name)\n",
        "file2 = open(BfB, \"w\")\n",
        "file2.write(\"Myself Shivani Saran\")\n",
        "file2.close()"
      ],
      "metadata": {
        "id": "8oltFV1pARxD"
      },
      "execution_count": null,
      "outputs": []
    },
    {
      "cell_type": "code",
      "source": [
        "save_path = '/content/blockchain'\n",
        "file_name = \"file3\"\n",
        "BfB = os.path.join(save_path,file_name)\n",
        "file3 = open(BfB, \"w\")\n",
        "file3.write(\"Blockchain for business lab 8\")\n",
        "file3.close()"
      ],
      "metadata": {
        "id": "1ZCVMT2EAkM2"
      },
      "execution_count": null,
      "outputs": []
    },
    {
      "cell_type": "code",
      "source": [
        "save_path = '/content/blockchain'\n",
        "file_name = \"file4\"\n",
        "BfB = os.path.join(save_path,file_name)\n",
        "file4 = open(BfB, \"w\")\n",
        "file4.write(\"University of petroleum and energy studies\")\n",
        "file4.close()"
      ],
      "metadata": {
        "id": "8L3cRShKAsgj"
      },
      "execution_count": null,
      "outputs": []
    },
    {
      "cell_type": "code",
      "source": [
        "save_path = '/content/blockchain'\n",
        "file_name = \"file5\"\n",
        "BfB = os.path.join(save_path,file_name)\n",
        "file5 = open(BfB, \"w\")\n",
        "file5.write(\"Blockchain for business lab 8\")\n",
        "file5.close()"
      ],
      "metadata": {
        "id": "mE8YdQtWA3Wi"
      },
      "execution_count": null,
      "outputs": []
    },
    {
      "cell_type": "code",
      "source": [
        "import hashlib"
      ],
      "metadata": {
        "id": "nXXMr5XhDGjm"
      },
      "execution_count": null,
      "outputs": []
    },
    {
      "cell_type": "code",
      "source": [
        "with open(\"file.txt\",\"w\")as file:\n",
        "  file.write(\"It's my blockchain for business lab.\")"
      ],
      "metadata": {
        "id": "y1b7cRoMGKhM"
      },
      "execution_count": null,
      "outputs": []
    },
    {
      "cell_type": "code",
      "source": [
        "with open(\"file.txt\",\"r\")as file:\n",
        "  filemsg=file.read()\n",
        "  print(filemsg)\n"
      ],
      "metadata": {
        "colab": {
          "base_uri": "https://localhost:8080/"
        },
        "id": "E-eCxbLxD-j_",
        "outputId": "75d65184-fadf-406c-c19c-ad3b820f17d7"
      },
      "execution_count": null,
      "outputs": [
        {
          "output_type": "stream",
          "name": "stdout",
          "text": [
            "It's my blockchain for business lab.\n"
          ]
        }
      ]
    },
    {
      "cell_type": "code",
      "source": [
        "hm= hashlib.sha256(filemsg.encode())\n",
        "print(hm.hexdigest())"
      ],
      "metadata": {
        "colab": {
          "base_uri": "https://localhost:8080/"
        },
        "id": "c8BiQpBiGWou",
        "outputId": "26d99fbb-20cc-49e9-8d6e-76720151f7d1"
      },
      "execution_count": null,
      "outputs": [
        {
          "output_type": "stream",
          "name": "stdout",
          "text": [
            "89ab25e062d175c2d51e4400163fe797d477f06452a82969dc6b451f4796b329\n"
          ]
        }
      ]
    },
    {
      "cell_type": "code",
      "source": [
        "with open(\"/content/blockchain/file1\",\"r\")as file:\n",
        "  filemsg1=file.read()\n",
        "  print(filemsg1)"
      ],
      "metadata": {
        "colab": {
          "base_uri": "https://localhost:8080/"
        },
        "id": "Lf7eVoJBIMuP",
        "outputId": "a8b110b8-edf6-4a68-81b3-0828772adaec"
      },
      "execution_count": null,
      "outputs": [
        {
          "output_type": "stream",
          "name": "stdout",
          "text": [
            "Blockchain for business lab 8\n"
          ]
        }
      ]
    },
    {
      "cell_type": "code",
      "source": [
        "hm1= hashlib.sha256(filemsg1.encode()).hexdigest()"
      ],
      "metadata": {
        "id": "AL72BranIl-l"
      },
      "execution_count": null,
      "outputs": []
    },
    {
      "cell_type": "code",
      "source": [
        "with open(\"/content/blockchain/file2\",\"r\")as file:\n",
        "  filemsg2=file.read()\n",
        "  print(filemsg2)\n",
        "  hm2= hashlib.sha256(filemsg2.encode()).hexdigest()"
      ],
      "metadata": {
        "colab": {
          "base_uri": "https://localhost:8080/"
        },
        "id": "jlDPcF2iIvEi",
        "outputId": "fccdffd9-f76a-4ddc-ad5f-92a9826c54f4"
      },
      "execution_count": null,
      "outputs": [
        {
          "output_type": "stream",
          "name": "stdout",
          "text": [
            "Myself Shivani Saran\n"
          ]
        }
      ]
    },
    {
      "cell_type": "code",
      "source": [
        "with open(\"/content/blockchain/file3\",\"r\")as file:\n",
        "  filemsg3=file.read()\n",
        "  print(filemsg3)\n",
        "  hm3= hashlib.sha256(filemsg3.encode()).hexdigest()"
      ],
      "metadata": {
        "colab": {
          "base_uri": "https://localhost:8080/"
        },
        "id": "fUvi7D2KI-nk",
        "outputId": "77066580-25c4-4045-ae45-07975b25a4b1"
      },
      "execution_count": null,
      "outputs": [
        {
          "output_type": "stream",
          "name": "stdout",
          "text": [
            "Blockchain for business lab 8\n"
          ]
        }
      ]
    },
    {
      "cell_type": "code",
      "source": [
        "with open(\"/content/blockchain/file4\",\"r\")as file:\n",
        "  filemsg4=file.read()\n",
        "  print(filemsg4)\n",
        "  hm4= hashlib.sha256(filemsg4.encode()).hexdigest()"
      ],
      "metadata": {
        "colab": {
          "base_uri": "https://localhost:8080/"
        },
        "id": "pPVhEHc0JHqw",
        "outputId": "6607dbc5-35fc-460a-ca5e-0fc01b27ac72"
      },
      "execution_count": null,
      "outputs": [
        {
          "output_type": "stream",
          "name": "stdout",
          "text": [
            "University of petroleum and energy studies\n"
          ]
        }
      ]
    },
    {
      "cell_type": "code",
      "source": [
        "with open(\"/content/blockchain/file5\",\"r\")as file:\n",
        "  filemsg5=file.read()\n",
        "  print(filemsg5)\n",
        "  hm5= hashlib.sha256(filemsg5.encode()).hexdigest()"
      ],
      "metadata": {
        "colab": {
          "base_uri": "https://localhost:8080/"
        },
        "id": "eN-pBveAJI8y",
        "outputId": "5d7ceb02-ea6f-4806-9d27-2f2e71a449d5"
      },
      "execution_count": null,
      "outputs": [
        {
          "output_type": "stream",
          "name": "stdout",
          "text": [
            "Blockchain for business lab 8\n"
          ]
        }
      ]
    },
    {
      "cell_type": "code",
      "source": [
        "hm1 == hm3"
      ],
      "metadata": {
        "colab": {
          "base_uri": "https://localhost:8080/"
        },
        "id": "TYCacJTXLq-I",
        "outputId": "7a436730-28a4-4f6e-8749-1a2a9ead001a"
      },
      "execution_count": null,
      "outputs": [
        {
          "output_type": "execute_result",
          "data": {
            "text/plain": [
              "True"
            ]
          },
          "metadata": {},
          "execution_count": 50
        }
      ]
    }
  ]
}