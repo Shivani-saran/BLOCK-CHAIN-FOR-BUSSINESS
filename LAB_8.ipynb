{
  "nbformat": 4,
  "nbformat_minor": 0,
  "metadata": {
    "colab": {
      "name": "LAB-8",
      "provenance": [],
      "collapsed_sections": [],
      "authorship_tag": "ABX9TyN+UfVfzNIABnrFKb/WBWKP",
      "include_colab_link": true
    },
    "kernelspec": {
      "name": "python3",
      "display_name": "Python 3"
    },
    "language_info": {
      "name": "python"
    }
  },
  "cells": [
    {
      "cell_type": "markdown",
      "metadata": {
        "id": "view-in-github",
        "colab_type": "text"
      },
      "source": [
        "<a href=\"https://colab.research.google.com/github/Shivani-saran/BLOCK-CHAIN-FOR-BUSSINESS/blob/main/LAB_8.ipynb\" target=\"_parent\"><img src=\"https://colab.research.google.com/assets/colab-badge.svg\" alt=\"Open In Colab\"/></a>"
      ]
    },
    {
      "cell_type": "markdown",
      "source": [
        "**file handling, encryption and descryption**"
      ],
      "metadata": {
        "id": "8tTzzO4OD1rX"
      }
    },
    {
      "cell_type": "code",
      "source": [
        "def encrypt(text,s):\n",
        "    result = \"\"\n",
        "    for i in range(len(text)):\n",
        "        char = text[i]\n",
        "        if (char.isupper()):\n",
        "            result += chr((ord(char) + s-65) % 26 + 65)\n",
        "        else:\n",
        "            result += chr((ord(char) + s - 97) % 26 + 97)\n",
        " \n",
        "    return result\n",
        "text = \"shivanisaran\"\n",
        "s = 4\n",
        "print (\"Text  : \" + text)\n",
        "print (\"Cipher: \" + encrypt(text,s))"
      ],
      "metadata": {
        "colab": {
          "base_uri": "https://localhost:8080/"
        },
        "id": "1ubq3-qxJRi7",
        "outputId": "e911fdc8-540b-4a79-e397-fcdb70f65dea"
      },
      "execution_count": null,
      "outputs": [
        {
          "output_type": "stream",
          "name": "stdout",
          "text": [
            "Text  : shivanisaran\n",
            "Cipher: wlmzermwever\n"
          ]
        }
      ]
    },
    {
      "cell_type": "markdown",
      "source": [
        "Entering Data and storing in a file"
      ],
      "metadata": {
        "id": "z4qgBQsxH7gK"
      }
    },
    {
      "cell_type": "code",
      "source": [
        "f= open(\"file.txt\",\"w\")\n",
        "s= str(input(\"Enter message:\"))\n",
        "f.write(s)\n",
        "f.close()\n",
        "f= open(\"file.txt\",\"r\")\n",
        "filecontent=f.read()\n",
        "print(filecontent)\n",
        "f.close()\n"
      ],
      "metadata": {
        "colab": {
          "base_uri": "https://localhost:8080/"
        },
        "id": "6xySAqCKH2eD",
        "outputId": "7ae389bb-9717-4d5f-9d0b-723f4c988f63"
      },
      "execution_count": 1,
      "outputs": [
        {
          "output_type": "stream",
          "name": "stdout",
          "text": [
            "Enter message:i am shivani\n",
            "i am shivani\n"
          ]
        }
      ]
    },
    {
      "cell_type": "markdown",
      "source": [
        "Encrypting file's Data by Data=ASCII(Data)-1"
      ],
      "metadata": {
        "id": "ilHZSdSwIYBw"
      }
    },
    {
      "cell_type": "code",
      "source": [
        "st= \"\"\n",
        "f= open(\"file.txt\",\"r\")\n",
        "filecontent=f.read()\n",
        "ls= filecontent.split()\n",
        "for x in ls:\n",
        " for y in x:\n",
        "   a=ord(y)\n",
        "   if(a>97 and a<=122):\n",
        "     a-=1\n",
        "   elif(a==97):\n",
        "     a=122\n",
        "   st= st+chr(a)\n",
        " st=st+\" \"\n",
        "f.close()\n",
        "f= open(\"file.txt\",\"w\")\n",
        "f.write(st)\n",
        "f.close()\n",
        "f= open(\"file.txt\",\"r\")\n",
        "filecontent=f.read()\n",
        "print(filecontent)\n",
        "f.close()\n"
      ],
      "metadata": {
        "colab": {
          "base_uri": "https://localhost:8080/"
        },
        "id": "WrHEBlvEIbHw",
        "outputId": "10d8c327-6410-4a82-b390-6c906e18f638"
      },
      "execution_count": 2,
      "outputs": [
        {
          "output_type": "stream",
          "name": "stdout",
          "text": [
            "h zl rghuzmh \n"
          ]
        }
      ]
    },
    {
      "cell_type": "markdown",
      "source": [
        "Decrypting data by Data=ASCII(Data)+1"
      ],
      "metadata": {
        "id": "2g6vzzRXKJTg"
      }
    },
    {
      "cell_type": "code",
      "source": [
        "st=\"\"\n",
        "f= open(\"file.txt\",\"r\")\n",
        "filecontent=f.read()\n",
        "ls= filecontent.split()\n",
        "for x in ls:\n",
        " for y in x:\n",
        "   a=ord(y)\n",
        "   if(a>=97 and a<122):\n",
        "     a+=1\n",
        "   elif(a==122):\n",
        "     a=97\n",
        "   st= st+chr(a)\n",
        " st=st+\" \"\n",
        "f.close()\n",
        "f= open(\"file.txt\",\"w\")\n",
        "f.write(st)\n",
        "f.close()\n",
        "f= open(\"file.txt\",\"r\")\n",
        "filecontent=f.read()\n",
        "print(filecontent)\n",
        "f.close()\n"
      ],
      "metadata": {
        "colab": {
          "base_uri": "https://localhost:8080/"
        },
        "id": "j5jAQSqcKMD2",
        "outputId": "b047fe7c-d5ec-4778-b0e1-0c3c06822e43"
      },
      "execution_count": 3,
      "outputs": [
        {
          "output_type": "stream",
          "name": "stdout",
          "text": [
            "i am shivani \n"
          ]
        }
      ]
    }
  ]
}