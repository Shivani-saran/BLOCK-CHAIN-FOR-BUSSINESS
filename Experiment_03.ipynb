{
  "nbformat": 4,
  "nbformat_minor": 0,
  "metadata": {
    "colab": {
      "name": "Experiment-03.ipynb",
      "provenance": [],
      "collapsed_sections": [],
      "authorship_tag": "ABX9TyP6gbytJzG2ppu+VZUNA8Yl",
      "include_colab_link": true
    },
    "kernelspec": {
      "name": "python3",
      "display_name": "Python 3"
    },
    "language_info": {
      "name": "python"
    }
  },
  "cells": [
    {
      "cell_type": "markdown",
      "metadata": {
        "id": "view-in-github",
        "colab_type": "text"
      },
      "source": [
        "<a href=\"https://colab.research.google.com/github/Shivani-saran/BLOCK-CHAIN-FOR-BUSSINESS/blob/main/Experiment_03.ipynb\" target=\"_parent\"><img src=\"https://colab.research.google.com/assets/colab-badge.svg\" alt=\"Open In Colab\"/></a>"
      ]
    },
    {
      "cell_type": "markdown",
      "source": [
        "**Ques.01)**\n",
        "Find a factorial of a given number."
      ],
      "metadata": {
        "id": "iJRxjSNhweu5"
      }
    },
    {
      "cell_type": "code",
      "source": [
        "a=int(input(\"enter any number:\"))\n",
        "f=1\n",
        "while (a >= 1):\n",
        " f=f*a\n",
        " a-=1\n",
        "print(f)"
      ],
      "metadata": {
        "colab": {
          "base_uri": "https://localhost:8080/"
        },
        "id": "PxTEaxrNwkr6",
        "outputId": "627130cb-2df3-433c-dcad-8389e0ffb7ac"
      },
      "execution_count": 13,
      "outputs": [
        {
          "output_type": "stream",
          "name": "stdout",
          "text": [
            "enter any number:4\n",
            "24\n"
          ]
        }
      ]
    },
    {
      "cell_type": "markdown",
      "source": [
        "**Ques.02)**\n",
        "Find whether the given no is armstrong no\n"
      ],
      "metadata": {
        "id": "jmI9O-Jtxfo5"
      }
    },
    {
      "cell_type": "code",
      "source": [
        "def power(x, y):\n",
        "    if y == 0:\n",
        "        return 1\n",
        "    if y % 2 == 0:\n",
        "        return power(x, y // 2) * power(x, y // 2)\n",
        "          \n",
        "    return x * power(x, y // 2) * power(x, y // 2)\n",
        "def order(x):\n",
        "    n = 0\n",
        "    while (x != 0):\n",
        "        n = n + 1\n",
        "        x = x // 10\n",
        "          \n",
        "    return n\n",
        "def isArmstrong(x):\n",
        "      \n",
        "    n = order(x)\n",
        "    temp = x\n",
        "    sum1 = 0\n",
        "      \n",
        "    while (temp != 0):\n",
        "        r = temp % 10\n",
        "        sum1 = sum1 + power(r, n)\n",
        "        temp = temp // 10\n",
        "    return (sum1 == x)\n",
        "x=153\n",
        "print(isArmstrong(x))\n",
        "  \n",
        "x = 1253\n",
        "print(isArmstrong(x))"
      ],
      "metadata": {
        "colab": {
          "base_uri": "https://localhost:8080/"
        },
        "id": "4l3SwFeCzWky",
        "outputId": "2e80c714-0a35-4248-b0cb-6d69665f838c"
      },
      "execution_count": 22,
      "outputs": [
        {
          "output_type": "stream",
          "name": "stdout",
          "text": [
            "True\n",
            "False\n"
          ]
        }
      ]
    },
    {
      "cell_type": "markdown",
      "source": [
        "**Ques.03)**\n",
        "Print fibnocci series upto given term"
      ],
      "metadata": {
        "id": "WTzsl9DrxrwG"
      }
    },
    {
      "cell_type": "code",
      "source": [
        "\n",
        "nterms = int(input(\"How many terms? \"))\n",
        "n1, n2 = 0, 1\n",
        "count = 0\n",
        "if nterms <= 0:\n",
        "   print(\"Please enter a positive integer\")\n",
        "elif nterms == 1:\n",
        "   print(\"Fibonacci sequence upto\",nterms,\":\")\n",
        "   print(n1)\n",
        "else:\n",
        "   print(\"Fibonacci sequence:\")\n",
        "   while count < nterms:\n",
        "       print(n1)\n",
        "       nth = n1 + n2\n",
        "       n1 = n2\n",
        "       n2 = nth\n",
        "       count += 1"
      ],
      "metadata": {
        "colab": {
          "base_uri": "https://localhost:8080/"
        },
        "id": "exRAVTdw-V4m",
        "outputId": "ea326e2c-ff7c-436b-f9c0-490cebd418a3"
      },
      "execution_count": 23,
      "outputs": [
        {
          "output_type": "stream",
          "name": "stdout",
          "text": [
            "How many terms? 10\n",
            "Fibonacci sequence:\n",
            "0\n",
            "1\n",
            "1\n",
            "2\n",
            "3\n",
            "5\n",
            "8\n",
            "13\n",
            "21\n",
            "34\n"
          ]
        }
      ]
    },
    {
      "cell_type": "markdown",
      "source": [
        "**Ques.04)**\n",
        "Write a program to find prime number"
      ],
      "metadata": {
        "id": "Z4REOVtCx1vm"
      }
    },
    {
      "cell_type": "code",
      "source": [
        "num = int(input(\"enter any number:\"))\n",
        "  \n",
        "if num > 1:\n",
        "  \n",
        "    for i in range(2, int(num/2)+1):\n",
        "        if (num % i) == 0:\n",
        "            print(num, \"is not a prime number\")\n",
        "            break\n",
        "    else:\n",
        "        print(num, \"is a prime number\")\n",
        "  \n",
        "else:\n",
        "    print(num, \"is not a prime number\")"
      ],
      "metadata": {
        "colab": {
          "base_uri": "https://localhost:8080/"
        },
        "id": "NI8T6vog8Vjq",
        "outputId": "11e890c5-738c-41ba-b01e-3278e25ae761"
      },
      "execution_count": 18,
      "outputs": [
        {
          "output_type": "stream",
          "name": "stdout",
          "text": [
            "enter any number:41\n",
            "41 is a prime number\n"
          ]
        }
      ]
    },
    {
      "cell_type": "markdown",
      "source": [
        "**Ques.05)**\n",
        "Check whether a given no is pallindrome or not"
      ],
      "metadata": {
        "id": "sQUYgTf5x_zU"
      }
    },
    {
      "cell_type": "code",
      "source": [
        "num = input('Enter any number : ')\n",
        "try:\n",
        "   val = int(num)\n",
        "   if num == str(num)[::-1]:\n",
        "      print('The given number is PALINDROME')\n",
        "   else:\n",
        "      print('The given number is NOT a palindrome')\n",
        "except ValueError:\n",
        "   print(\"That's not a valid number, Try Again !\")"
      ],
      "metadata": {
        "colab": {
          "base_uri": "https://localhost:8080/"
        },
        "id": "ewSD0oX672Lk",
        "outputId": "6651f44d-5a29-4cb2-86f6-c870c4b865c1"
      },
      "execution_count": 17,
      "outputs": [
        {
          "output_type": "stream",
          "name": "stdout",
          "text": [
            "Enter any number : 123454321\n",
            "The given number is PALINDROME\n"
          ]
        }
      ]
    },
    {
      "cell_type": "markdown",
      "source": [
        "**Ques.06)**\n",
        "Write a program to print sum of digits."
      ],
      "metadata": {
        "id": "OdpW1_wfyLIl"
      }
    },
    {
      "cell_type": "code",
      "source": [
        "n = int(input(\"Enter any number\"))\n",
        "sum = 0\n",
        "for digit in str(n): \n",
        "    sum += int(digit)\n",
        "print(sum)\n"
      ],
      "metadata": {
        "colab": {
          "base_uri": "https://localhost:8080/"
        },
        "id": "YIaaVOUMzep2",
        "outputId": "a9b0e5cc-f2db-4862-dd61-fe918670c655"
      },
      "execution_count": 16,
      "outputs": [
        {
          "output_type": "stream",
          "name": "stdout",
          "text": [
            "Enter any number25417\n",
            "19\n"
          ]
        }
      ]
    },
    {
      "cell_type": "markdown",
      "source": [
        "**Ques.07)**\n",
        "count and print all no divisible by 5 or 7 between 1 to 100."
      ],
      "metadata": {
        "id": "gTME9MZizGVG"
      }
    },
    {
      "cell_type": "code",
      "source": [
        "count = 0\n",
        "for x in range(1,100):\n",
        " if(x%5 == 0 or x%7 == 0):\n",
        "  print(x,end = \" \")\n",
        " count+=1\n",
        "print(\"\\nTotal numbers divisible by 5 or 7 between 1 and 100: \",count)"
      ],
      "metadata": {
        "colab": {
          "base_uri": "https://localhost:8080/"
        },
        "id": "xQgHA3Hdz30Q",
        "outputId": "ba806473-4eff-4424-f30e-9e36a21f7bdc"
      },
      "execution_count": 3,
      "outputs": [
        {
          "output_type": "stream",
          "name": "stdout",
          "text": [
            "5 7 10 14 15 20 21 25 28 30 35 40 42 45 49 50 55 56 60 63 65 70 75 77 80 84 85 90 91 95 98 \n",
            "Total numbers divisible by 5 or 7 between 1 and 100:  99\n"
          ]
        }
      ]
    },
    {
      "cell_type": "markdown",
      "source": [
        "**Ques.08)**\n",
        "Convert alll lowercase to uppercase in a string."
      ],
      "metadata": {
        "id": "54hm26n1yUfc"
      }
    },
    {
      "cell_type": "code",
      "source": [
        "string = input()\n",
        "print(string.upper())"
      ],
      "metadata": {
        "colab": {
          "base_uri": "https://localhost:8080/"
        },
        "id": "xyAaU7Ag0plR",
        "outputId": "ca9890e8-6353-44a0-b87a-f1071f3244dc"
      },
      "execution_count": 5,
      "outputs": [
        {
          "output_type": "stream",
          "name": "stdout",
          "text": [
            "my name is shivani saran\n",
            "MY NAME IS SHIVANI SARAN\n"
          ]
        }
      ]
    },
    {
      "cell_type": "markdown",
      "source": [
        "**Ques.09)**\n",
        "Print prime numbers between 1 and 100."
      ],
      "metadata": {
        "id": "kaRcvjVYyidK"
      }
    },
    {
      "cell_type": "code",
      "source": [
        "j = 1\n",
        "for num in range(1,101):\n",
        " if num > 1:\n",
        "  for i in range(2,num):\n",
        "   if (num % i) == 0:\n",
        "    break\n",
        "  else:\n",
        "   print(num)\n",
        "   j += 1\n",
        "print(\"Total Prime Numbers Between 1 to 100 is\")\n",
        "print(j)"
      ],
      "metadata": {
        "colab": {
          "base_uri": "https://localhost:8080/"
        },
        "id": "pR_TT0yh06Mb",
        "outputId": "a6f70799-1036-4868-8aee-433005414914"
      },
      "execution_count": 6,
      "outputs": [
        {
          "output_type": "stream",
          "name": "stdout",
          "text": [
            "2\n",
            "3\n",
            "5\n",
            "7\n",
            "11\n",
            "13\n",
            "17\n",
            "19\n",
            "23\n",
            "29\n",
            "31\n",
            "37\n",
            "41\n",
            "43\n",
            "47\n",
            "53\n",
            "59\n",
            "61\n",
            "67\n",
            "71\n",
            "73\n",
            "79\n",
            "83\n",
            "89\n",
            "97\n",
            "Total Prime Numbers Between 1 to 100 is\n",
            "26\n"
          ]
        }
      ]
    },
    {
      "cell_type": "markdown",
      "source": [
        "**Ques.10)**\n",
        "Print the table for a given no.\n",
        "5*1=5\n",
        "5*2=10....."
      ],
      "metadata": {
        "id": "Xte3wm98yyEO"
      }
    },
    {
      "cell_type": "code",
      "source": [
        "num = 5\n",
        "i = 1\n",
        "while(i <= 10):\n",
        " x = (num * i)\n",
        " print(num , \"*\" , i , '=' , x)\n",
        " i += 1"
      ],
      "metadata": {
        "colab": {
          "base_uri": "https://localhost:8080/"
        },
        "id": "RHrt7lLN1dCG",
        "outputId": "170ab0b5-95a3-451e-abbf-796503e17783"
      },
      "execution_count": 9,
      "outputs": [
        {
          "output_type": "stream",
          "name": "stdout",
          "text": [
            "5 * 1 = 5\n",
            "5 * 2 = 10\n",
            "5 * 3 = 15\n",
            "5 * 4 = 20\n",
            "5 * 5 = 25\n",
            "5 * 6 = 30\n",
            "5 * 7 = 35\n",
            "5 * 8 = 40\n",
            "5 * 9 = 45\n",
            "5 * 10 = 50\n"
          ]
        }
      ]
    }
  ]
}