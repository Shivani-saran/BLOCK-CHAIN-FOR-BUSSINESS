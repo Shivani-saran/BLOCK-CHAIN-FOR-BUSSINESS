{
  "nbformat": 4,
  "nbformat_minor": 0,
  "metadata": {
    "colab": {
      "name": "EXPERIMENT-04.ipynb",
      "provenance": [],
      "authorship_tag": "ABX9TyMUDT02E5nZNnCpvPzRLqJv",
      "include_colab_link": true
    },
    "kernelspec": {
      "name": "python3",
      "display_name": "Python 3"
    },
    "language_info": {
      "name": "python"
    }
  },
  "cells": [
    {
      "cell_type": "markdown",
      "metadata": {
        "id": "view-in-github",
        "colab_type": "text"
      },
      "source": [
        "<a href=\"https://colab.research.google.com/github/Shivani-saran/BLOCK-CHAIN-FOR-BUSSINESS/blob/main/EXPERIMENT_04.ipynb\" target=\"_parent\"><img src=\"https://colab.research.google.com/assets/colab-badge.svg\" alt=\"Open In Colab\"/></a>"
      ]
    },
    {
      "cell_type": "code",
      "execution_count": null,
      "metadata": {
        "id": "mmAt6Z_1OFP8"
      },
      "outputs": [],
      "source": [
        ""
      ]
    },
    {
      "cell_type": "markdown",
      "source": [
        "**Ques.01)**\n",
        "Write a program to count and display the number of capital letters in a given string."
      ],
      "metadata": {
        "id": "DWGRUF8xOJOW"
      }
    },
    {
      "cell_type": "code",
      "source": [
        "str=input(\"Enter a string: \")\n",
        "upper=0\n",
        "for i in range(len(str)):\n",
        "      if(str[i]>='A' and str[i]<='Z'):\n",
        "          upper+=1\n",
        "print('Upper case letters= ',upper)"
      ],
      "metadata": {
        "colab": {
          "base_uri": "https://localhost:8080/"
        },
        "id": "dIF_nhMNOpP5",
        "outputId": "8ab398cc-1260-45d7-b743-1ccc9c4377f4"
      },
      "execution_count": 2,
      "outputs": [
        {
          "output_type": "stream",
          "name": "stdout",
          "text": [
            "Enter a string: My Roll No Is R103219018\n",
            "Upper case letters=  5\n"
          ]
        }
      ]
    },
    {
      "cell_type": "markdown",
      "source": [
        "**Ques.02)**\n",
        "count total numbers of vowels in a given string."
      ],
      "metadata": {
        "id": "7uz_NkxQPpYf"
      }
    },
    {
      "cell_type": "code",
      "source": [
        "def vowel_count(str):\n",
        "    count = 0\n",
        "    vowel = set(\"aeiouAEIOU\")\n",
        "    for alphabet in str:\n",
        "        if alphabet in vowel:\n",
        "            count = count + 1\n",
        "      \n",
        "    print(\"No. of vowels :\", count)\n",
        "      \n",
        "\n",
        "str = \"Block Chain for business\"\n",
        "vowel_count(str)"
      ],
      "metadata": {
        "colab": {
          "base_uri": "https://localhost:8080/"
        },
        "id": "ydcT_acAPy0Y",
        "outputId": "d173fb2b-fd27-4543-e4f3-89badce0b5f9"
      },
      "execution_count": 3,
      "outputs": [
        {
          "output_type": "stream",
          "name": "stdout",
          "text": [
            "No. of vowels : 7\n"
          ]
        }
      ]
    },
    {
      "cell_type": "markdown",
      "source": [
        "**Ques.03)**\n",
        "input a sentence and print words in a separate lines."
      ],
      "metadata": {
        "id": "Ywo0TkzxPzfW"
      }
    },
    {
      "cell_type": "code",
      "source": [
        "def convert(lst):\n",
        "    return (lst[0].split())\n",
        "lst =  [\"University of petroleum and energy studies\"]\n",
        "print( convert(lst))"
      ],
      "metadata": {
        "colab": {
          "base_uri": "https://localhost:8080/"
        },
        "id": "6tSzDEqvQCcp",
        "outputId": "03b32d24-4527-4917-bc78-1f544ee1d71e"
      },
      "execution_count": 4,
      "outputs": [
        {
          "output_type": "stream",
          "name": "stdout",
          "text": [
            "['University', 'of', 'petroleum', 'and', 'energy', 'studies']\n"
          ]
        }
      ]
    },
    {
      "cell_type": "markdown",
      "source": [
        "**Ques.04)**\n",
        "Program to count no of uniques words in a given sentence"
      ],
      "metadata": {
        "id": "PcP4vDldQC1w"
      }
    },
    {
      "cell_type": "code",
      "source": [
        "def word_count(str):\n",
        "    counts = dict()\n",
        "    words = str.split()\n",
        "\n",
        "    for word in words:\n",
        "        if word in counts:\n",
        "            counts[word] += 1\n",
        "        else:\n",
        "            counts[word] = 1\n",
        "\n",
        "    return counts\n",
        "\n",
        "print( word_count('I am Shivani. My roll no is R103219018, my sap id is 500075219'))\n"
      ],
      "metadata": {
        "colab": {
          "base_uri": "https://localhost:8080/"
        },
        "id": "WqcKyaaIQM9e",
        "outputId": "48e0b48c-317e-474c-9b8d-bd0110b40b9d"
      },
      "execution_count": 5,
      "outputs": [
        {
          "output_type": "stream",
          "name": "stdout",
          "text": [
            "{'I': 1, 'am': 1, 'Shivani.': 1, 'My': 1, 'roll': 1, 'no': 1, 'is': 2, 'R103219018,': 1, 'my': 1, 'sap': 1, 'id': 1, '500075219': 1}\n"
          ]
        }
      ]
    },
    {
      "cell_type": "markdown",
      "source": [
        "**Ques.05)**\n",
        "write a program to scan n values and print square of each number."
      ],
      "metadata": {
        "id": "lXnHCrCSQRCs"
      }
    },
    {
      "cell_type": "code",
      "source": [
        "digit = int(input(\"Enter an integer number: \"))\n",
        "square = digit*digit\n",
        "print(f\"Square of {digit} is {square}\")"
      ],
      "metadata": {
        "colab": {
          "base_uri": "https://localhost:8080/"
        },
        "id": "14QBRm1JQhUe",
        "outputId": "ee5bfe8a-da65-4539-cdf5-4b11eb1ec780"
      },
      "execution_count": 6,
      "outputs": [
        {
          "output_type": "stream",
          "name": "stdout",
          "text": [
            "Enter an integer number: 15\n",
            "Square of 15 is 225\n"
          ]
        }
      ]
    },
    {
      "cell_type": "markdown",
      "source": [
        "**Ques.06)**\n",
        "take two sets and apply various set operations on them:\n",
        "S1={red, yellow, orange, blue}\n",
        "S2={violet, blue,  purple}"
      ],
      "metadata": {
        "id": "rp5J-qAkQhoq"
      }
    },
    {
      "cell_type": "code",
      "source": [
        ""
      ],
      "metadata": {
        "id": "_TVlF3YUQ8OR"
      },
      "execution_count": null,
      "outputs": []
    }
  ]
}