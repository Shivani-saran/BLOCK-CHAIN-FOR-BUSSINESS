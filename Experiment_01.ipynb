{
  "nbformat": 4,
  "nbformat_minor": 0,
  "metadata": {
    "colab": {
      "name": "Experiment-01",
      "provenance": [],
      "collapsed_sections": [],
      "authorship_tag": "ABX9TyMyC36v4ihnQVETZvmLn867",
      "include_colab_link": true
    },
    "kernelspec": {
      "name": "python3",
      "display_name": "Python 3"
    },
    "language_info": {
      "name": "python"
    }
  },
  "cells": [
    {
      "cell_type": "markdown",
      "metadata": {
        "id": "view-in-github",
        "colab_type": "text"
      },
      "source": [
        "<a href=\"https://colab.research.google.com/github/Shivani-saran/BLOCK-CHAIN-FOR-BUSSINESS/blob/main/Experiment_01.ipynb\" target=\"_parent\"><img src=\"https://colab.research.google.com/assets/colab-badge.svg\" alt=\"Open In Colab\"/></a>"
      ]
    },
    {
      "cell_type": "markdown",
      "source": [
        "**Ques.01)**\n",
        "Print the following:\n",
        "'Brian's mother: He's not the messiah.\n",
        "he's a very naughty boy!'\n",
        "\n"
      ],
      "metadata": {
        "id": "q5USBN4lTTFC"
      }
    },
    {
      "cell_type": "code",
      "execution_count": 2,
      "metadata": {
        "colab": {
          "base_uri": "https://localhost:8080/"
        },
        "id": "ZAUg3_4GN6BO",
        "outputId": "90c4689d-2ba1-44f2-8a12-59791f744fbb"
      },
      "outputs": [
        {
          "output_type": "stream",
          "name": "stdout",
          "text": [
            "Brian's mother : he's not the messiah.\n",
            " He's a very naughty boy !\n"
          ]
        }
      ],
      "source": [
        "print(\"Brian's mother : he's not the messiah.\\n He's a very naughty boy !\")"
      ]
    },
    {
      "cell_type": "markdown",
      "source": [
        "**Ques.02)**\n",
        "Take two variable a and b.Assign you first name and last name. print your name after adding your first name and last name together."
      ],
      "metadata": {
        "id": "iUdxyRVMUX1v"
      }
    },
    {
      "cell_type": "code",
      "source": [
        "a=\"Shivani\"\n",
        "b=\"Saran\"\n",
        "print(a +\"\"+b)"
      ],
      "metadata": {
        "colab": {
          "base_uri": "https://localhost:8080/"
        },
        "id": "MoYXM4mdU4Xw",
        "outputId": "3587d71e-4494-4e62-b378-118bf7bf0743"
      },
      "execution_count": 4,
      "outputs": [
        {
          "output_type": "stream",
          "name": "stdout",
          "text": [
            "ShivaniSaran\n"
          ]
        }
      ]
    },
    {
      "cell_type": "markdown",
      "source": [
        "**Ques.03)**\n",
        "print your name three times like\n",
        "GeorgeGeorgeGeorge."
      ],
      "metadata": {
        "id": "-TB4jcO0Vo8_"
      }
    },
    {
      "cell_type": "code",
      "source": [
        "a=\"Shivani\"\n",
        "print(a*3)"
      ],
      "metadata": {
        "colab": {
          "base_uri": "https://localhost:8080/"
        },
        "id": "j3v6C65ZV55z",
        "outputId": "2f1283ac-6453-4c81-e3f5-dfc95b5a387a"
      },
      "execution_count": 5,
      "outputs": [
        {
          "output_type": "stream",
          "name": "stdout",
          "text": [
            "ShivaniShivaniShivani\n"
          ]
        }
      ]
    },
    {
      "cell_type": "markdown",
      "source": [
        "**Ques.04)**\n",
        "Print your name three times like\n",
        "George  George  George"
      ],
      "metadata": {
        "id": "kGvqmBDfWFGX"
      }
    },
    {
      "cell_type": "code",
      "source": [
        "a=\"Shivani\\t\"\n",
        "print(a*3)"
      ],
      "metadata": {
        "colab": {
          "base_uri": "https://localhost:8080/"
        },
        "id": "rTRSyDs2WTKG",
        "outputId": "e8ae6e83-663f-4233-f4f2-ba3ca03df00b"
      },
      "execution_count": 6,
      "outputs": [
        {
          "output_type": "stream",
          "name": "stdout",
          "text": [
            "Shivani\tShivani\tShivani\t\n"
          ]
        }
      ]
    },
    {
      "cell_type": "markdown",
      "source": [
        "**Ques.05)**\n",
        "Declare and assign values to the variable first name,last name, address, DOB, Programme, semester, SAP ID and print in the following way:\n",
        "NAME : MOHIT BANSAL                    SAP ID : 500069944\n",
        "DATE OF BIRTH : 13 Oct 1999\n",
        "ADDRESS : UPES\n",
        "Bodholi Campus\n",
        "Pincode:  248007\n",
        "Programme :BAO"
      ],
      "metadata": {
        "id": "-aweLnidWeaX"
      }
    },
    {
      "cell_type": "code",
      "source": [
        "import datetime\n",
        "a=\"Shivani\"\n",
        "b=\"Saran\\t\\t\"\n",
        "c=\"Indore,MP\"\n",
        "d=\"08/04/1999\"\n",
        "e=\"BAO\"\n",
        "f=\"500075219\"\n",
        "g=\"248007\"\n",
        "print(\"Name:\" +a +\" \" +b +\"\\n\" +\"DOB : \" +d)\n",
        "print(\"SAP ID :\" +f)\n",
        "print(\"Programme :\" +e +\"\\n\" +\"Address : \" +c )\n",
        "print(\"Pincode : \" +g)\n"
      ],
      "metadata": {
        "colab": {
          "base_uri": "https://localhost:8080/"
        },
        "id": "QLOfVtioXhaC",
        "outputId": "3a404dcc-727c-42e0-84ce-53c8a5038476"
      },
      "execution_count": 10,
      "outputs": [
        {
          "output_type": "stream",
          "name": "stdout",
          "text": [
            "Name:Shivani Saran\t\t\n",
            "DOB : 08/04/1999\n",
            "SAP ID :500075219\n",
            "Programme :BAO\n",
            "Address : Indore,MP\n",
            "Pincode : 248007\n"
          ]
        }
      ]
    },
    {
      "cell_type": "markdown",
      "source": [
        "**Ques.06)**\n",
        "Write a python program to solve (x+y)*(x+y).\n",
        "Test data : x=4,y=3\n",
        "Expected output : (4+3)^2=49"
      ],
      "metadata": {
        "id": "Uanfts5eay2V"
      }
    },
    {
      "cell_type": "code",
      "source": [
        "x=int(input())\n",
        "y=int(input())\n",
        "z=(x+y)*(x+y)\n",
        "print(z)\n"
      ],
      "metadata": {
        "colab": {
          "base_uri": "https://localhost:8080/"
        },
        "id": "2SlQyj5ZbmX3",
        "outputId": "9c49eb24-048b-4849-cc1b-b0dc040b524f"
      },
      "execution_count": 11,
      "outputs": [
        {
          "output_type": "stream",
          "name": "stdout",
          "text": [
            "4\n",
            "3\n",
            "49\n"
          ]
        }
      ]
    },
    {
      "cell_type": "markdown",
      "source": [
        "**Ques.07)**\n",
        "write a program to find simple interest."
      ],
      "metadata": {
        "id": "miYjWMuLcg0Q"
      }
    },
    {
      "cell_type": "code",
      "source": [
        "p=float(input())\n",
        "r=float(input())\n",
        "t=float(input())\n",
        "si=(p*r*t)/100\n",
        "print(si)"
      ],
      "metadata": {
        "colab": {
          "base_uri": "https://localhost:8080/"
        },
        "id": "M-HeNXFtcsGA",
        "outputId": "5dc86fa3-20ce-4ef8-820c-07488c6a2c0c"
      },
      "execution_count": 12,
      "outputs": [
        {
          "output_type": "stream",
          "name": "stdout",
          "text": [
            "10000\n",
            "4.5\n",
            "3\n",
            "1350.0\n"
          ]
        }
      ]
    },
    {
      "cell_type": "markdown",
      "source": [
        "**Ques.08)** \n",
        "write a program to convert given seconds into hours, minutes and remaining seconds."
      ],
      "metadata": {
        "id": "nUvHH9jBdZ7m"
      }
    },
    {
      "cell_type": "code",
      "source": [
        "sec=int(input())\n",
        "hrs=int(sec/3600)\n",
        "min=int((sec-hrs*3600)/60)\n",
        "sec=(sec-hrs*3600-min*60)\n",
        "print(\"Hours : \",hrs, \"\\nminutes : \",min,\"\\nSeconds : \",sec)"
      ],
      "metadata": {
        "colab": {
          "base_uri": "https://localhost:8080/"
        },
        "id": "2cDroP4mdxdS",
        "outputId": "a077a2cd-084e-4727-f759-ad2d7f46da7c"
      },
      "execution_count": 13,
      "outputs": [
        {
          "output_type": "stream",
          "name": "stdout",
          "text": [
            "9652\n",
            "Hours :  2 \n",
            "minutes :  40 \n",
            "Seconds :  52\n"
          ]
        }
      ]
    },
    {
      "cell_type": "markdown",
      "source": [
        "**Ques.09)**\n",
        "Write a program to swap two numbers without taking additional variable."
      ],
      "metadata": {
        "id": "YDgDSFyuf4LB"
      }
    },
    {
      "cell_type": "code",
      "source": [
        "a=int(input())\n",
        "b=int(input())\n",
        "a+=b\n",
        "b=a-b\n",
        "a=a-b\n",
        "print(\"a:\",a)\n",
        "print(\"b:\",b)\n"
      ],
      "metadata": {
        "colab": {
          "base_uri": "https://localhost:8080/"
        },
        "id": "IRiOFIIrgGHz",
        "outputId": "d6c69dbe-cba6-4a2f-808b-02d6b5d89d05"
      },
      "execution_count": 14,
      "outputs": [
        {
          "output_type": "stream",
          "name": "stdout",
          "text": [
            "8\n",
            "2\n",
            "a: 2\n",
            "b: 8\n"
          ]
        }
      ]
    },
    {
      "cell_type": "markdown",
      "source": [
        "**Ques.10)**\n",
        "write a program to find sum of n natural numbers."
      ],
      "metadata": {
        "id": "dp4akQxbhguY"
      }
    },
    {
      "cell_type": "code",
      "source": [
        "n=int(input())\n",
        "sum=((n*(n+1))/2)\n",
        "print(sum)"
      ],
      "metadata": {
        "colab": {
          "base_uri": "https://localhost:8080/"
        },
        "id": "cetjp4kOhtle",
        "outputId": "8057c8cf-bd8e-4cab-e1a6-3f1b698b45e6"
      },
      "execution_count": 15,
      "outputs": [
        {
          "output_type": "stream",
          "name": "stdout",
          "text": [
            "5\n",
            "15.0\n"
          ]
        }
      ]
    }
  ]
}