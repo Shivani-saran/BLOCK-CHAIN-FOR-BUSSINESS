{
  "nbformat": 4,
  "nbformat_minor": 0,
  "metadata": {
    "colab": {
      "name": "Experiment -02",
      "provenance": [],
      "authorship_tag": "ABX9TyOtOXvZYwafFNSR86KFa40N",
      "include_colab_link": true
    },
    "kernelspec": {
      "name": "python3",
      "display_name": "Python 3"
    },
    "language_info": {
      "name": "python"
    }
  },
  "cells": [
    {
      "cell_type": "markdown",
      "metadata": {
        "id": "view-in-github",
        "colab_type": "text"
      },
      "source": [
        "<a href=\"https://colab.research.google.com/github/Shivani-saran/BLOCK-CHAIN-FOR-BUSSINESS/blob/main/Experiment_02.ipynb\" target=\"_parent\"><img src=\"https://colab.research.google.com/assets/colab-badge.svg\" alt=\"Open In Colab\"/></a>"
      ]
    },
    {
      "cell_type": "markdown",
      "source": [
        "**Ques.01)**\n",
        "Check whether a given no is multiple of 5 or not?"
      ],
      "metadata": {
        "id": "OVoY6uvDmeNB"
      }
    },
    {
      "cell_type": "code",
      "source": [
        "a = int(input())\n",
        "if a%5==0:\n",
        " print(\"Multiple of 5\")\n",
        "else :\n",
        " print(\"not a multiple\")"
      ],
      "metadata": {
        "colab": {
          "base_uri": "https://localhost:8080/"
        },
        "id": "qj_5lWVwmr6q",
        "outputId": "c49dfcb7-2365-41bc-e918-12ff7b9b0fc3"
      },
      "execution_count": 6,
      "outputs": [
        {
          "output_type": "stream",
          "name": "stdout",
          "text": [
            "825\n",
            "Multiple of 5\n"
          ]
        }
      ]
    },
    {
      "cell_type": "markdown",
      "source": [
        "**Ques.02)**\n",
        "Find the greatest among the three numbers assuming no two values are same."
      ],
      "metadata": {
        "id": "E5xgM48MugLG"
      }
    },
    {
      "cell_type": "code",
      "source": [
        "a=int(input())\n",
        "b=int(input())\n",
        "c=int(input())\n",
        "a=max(a,b)\n",
        "a=max(a,c)\n",
        "print(a)"
      ],
      "metadata": {
        "colab": {
          "base_uri": "https://localhost:8080/"
        },
        "id": "EAczx1ZNutXD",
        "outputId": "4eae5f16-18e3-44f7-a881-9d863511a327"
      },
      "execution_count": 11,
      "outputs": [
        {
          "output_type": "stream",
          "name": "stdout",
          "text": [
            "5\n",
            "8\n",
            "1\n",
            "8\n"
          ]
        }
      ]
    },
    {
      "cell_type": "markdown",
      "source": [
        "**Ques.03)**\n",
        "Check whether the quadratic equations has real roots or imaginary roots. Display the roots."
      ],
      "metadata": {
        "id": "ak5kvVtVt0_W"
      }
    },
    {
      "cell_type": "code",
      "source": [
        "a= int(input())\n",
        "b= int(input())\n",
        "c= int(input())\n",
        "print(\"Equation: \",a,\"x2 +\",b,\"x +\",c)\n",
        "v= ((b**2)-(4*a*c))**(1/2)\n",
        "if((b**2)<(4*a*c)):\n",
        " print(\"Imaginary roots\")\n",
        "else:\n",
        " print(\"Real roots\")\n",
        " r1=(-b+v)/(2*a)\n",
        " r2=(-b-v)/(2*a)\n",
        " print(\"Root1 :\",r1)\n",
        " print(\"Root2 :\",r2)"
      ],
      "metadata": {
        "colab": {
          "base_uri": "https://localhost:8080/"
        },
        "id": "jP2PvePMuFFZ",
        "outputId": "c128dd46-7678-4f15-828f-884230e65c2f"
      },
      "execution_count": 10,
      "outputs": [
        {
          "output_type": "stream",
          "name": "stdout",
          "text": [
            "5\n",
            "8\n",
            "9\n",
            "Equation:  5 x2 + 8 x + 9\n",
            "Imaginary roots\n"
          ]
        }
      ]
    },
    {
      "cell_type": "markdown",
      "source": [
        "**Ques.04)**\n",
        "Find whether a given year is a leap year or not?\n"
      ],
      "metadata": {
        "id": "aZ0EgtHtpJgA"
      }
    },
    {
      "cell_type": "code",
      "source": [
        "a=int(input())\n",
        "if a%4==0 and a%100 !=0 :\n",
        " print(\"given year is a leap year\")\n",
        "elif a%100==0:\n",
        " print(\"given year is not a leap year\")\n",
        "elif a%400==0:\n",
        " print(\"given year is a leap year\")\n",
        "else :\n",
        " print(\"given year is not a leap year\")"
      ],
      "metadata": {
        "colab": {
          "base_uri": "https://localhost:8080/"
        },
        "id": "AcpPNIH1pVYX",
        "outputId": "d1026f27-12e8-4e65-9cee-a05c131a94e5"
      },
      "execution_count": 8,
      "outputs": [
        {
          "output_type": "stream",
          "name": "stdout",
          "text": [
            "3024\n",
            "given year is a leap year\n"
          ]
        }
      ]
    },
    {
      "cell_type": "markdown",
      "source": [
        "**Ques.05)**\n",
        "Write a program which takes any date as  input and display next date of the calendar."
      ],
      "metadata": {
        "id": "lrkXNUoerLct"
      }
    },
    {
      "cell_type": "code",
      "source": [
        "import datetime\n",
        "from datetime import timedelta\n",
        "d=int(input(\"day=\"))\n",
        "m=int(input(\"Month=\"))\n",
        "y=int(input(\"year=\"))\n",
        "gDate = datetime.datetime(y,m,d)\n",
        "print(\"given date is: \",gDate)\n",
        "yesterday=gDate+timedelta(days=1)\n",
        "print(\"Next date will be: \",yesterday)"
      ],
      "metadata": {
        "colab": {
          "base_uri": "https://localhost:8080/"
        },
        "id": "510_trOHrgTm",
        "outputId": "1efc5e5c-175d-47bd-e788-cbe163aabf47"
      },
      "execution_count": 9,
      "outputs": [
        {
          "output_type": "stream",
          "name": "stdout",
          "text": [
            "day=5\n",
            "Month=7\n",
            "year=2022\n",
            "given date is:  2022-07-05 00:00:00\n",
            "Next date will be:  2022-07-06 00:00:00\n"
          ]
        }
      ]
    }
  ]
}